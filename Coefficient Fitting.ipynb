{
 "cells": [
  {
   "cell_type": "code",
   "execution_count": null,
   "metadata": {},
   "outputs": [],
   "source": [
    "import numpy as np \n",
    "import matplotlib.pyplot as pyplot  \n",
    "from scipy import optimize as optimize \n",
    "import numpy.random as random \n",
    "import scipy.stats as stats  \n",
    "import scipy.integrate as integrate"
   ]
  },
  {
   "cell_type": "code",
   "execution_count": null,
   "metadata": {},
   "outputs": [],
   "source": [
    "def speed(): \n",
    "    random.seed(2)\n",
    "    n = 4000\n",
    "    \n",
    "    s = np.random.normal(114,5,size = (n,))\n",
    "    \n",
    "    return(s)"
   ]
  },
  {
   "cell_type": "code",
   "execution_count": null,
   "metadata": {},
   "outputs": [],
   "source": [
    "def model_coefficients(): \n",
    "\n",
    "    beta = 0.0 \n",
    "    alpha = 0.0 \n",
    "    \n",
    "    t = np.array([0.02898268, 0.05238042, 0.27095754, 0.29074201, 0.32255635, 0.35911651, 0.4636914 , 0.60577309, 0.82756602, 0.85407685, 0.90926909, 0.99562962, 1.11866281, 1.22029628, 1.25023908, 1.37951219, 1.3917662 , 1.70318754, 1.90184329, 1.98798469, 2.01999713, 2.06872667, 2.16774733, 2.52214379, 2.71491843, 2.78814761, 2.95614665, 2.95682669, 3.26451761, 3.58074809, 3.63487445, 3.64817505, 3.66838719, 4.04461847, 4.05475601, 4.19024657, 4.20048079, 4.28158662, 4.45660675, 4.63914783, 5.09852661, 5.11026401, 5.15725888, 5.29211596, 5.37274435, 5.47425864, 5.55277478, 5.58765069, 5.78755007, 5.89111624])\n",
    "    y = np.array([-0.39639144, -0.32400268, -0.27186431, -0.25562032, -0.16225675, -0.15189875, -0.11074858, -0.05655599, 0.04667011, 0.07349647, 0.12134261, 0.14489261, 0.26638036, 0.2880655, 0.54772415, 0.82618039, 0.87950423, 0.94528821, 1.16324656, 1.20999071, 1.21907119, 1.2558439, 1.29965583, 1.36286691, 1.4337609, 1.45435494, 1.45834378, 1.45995335, 1.46144188, 1.46084769, 1.45720345, 1.45546776, 1.45130138, 1.4488481, 1.43724387, 1.43141401, 1.42564735, 1.4096291, 1.39342074, 1.39234778, 1.39108271, 1.3815082, 1.37663599, 1.36745763, 1.36627171, 1.36604462, 1.36983414, 1.37362336, 1.3776294, 1.38801987])\n",
    "    \n",
    "    def find_near(array,fitted_value):\n",
    "        array = np.asarray(array)\n",
    "        index = (np.abs(array - fitted_value)).argmin()\n",
    "        return(index)\n",
    "    \n",
    "    def error(pars):\n",
    "        beta = pars[0]\n",
    "        alpha = pars[1]\n",
    "        \n",
    "        def sine_ODE(y,t):\n",
    "            return(-alpha*np.sin(t) + beta)\n",
    "        t_hats = np.linspace(0,6,5000)\n",
    "        y_hats = integrate.odeint(sine_ODE, y0 = -0.39639144, t = t_hats)\n",
    "        sse = 0.0\n",
    "        for i in range(0,len(y)):\n",
    "            index = find_near(t_hats, t[i])\n",
    "            sse += (y[i] - y_hats[index])**2\n",
    "        return(sse)\n",
    "    \n",
    "    pars_vec = [-1, 1]\n",
    "    results = optimize.minimize(error, pars_vec)\n",
    "    \n",
    "    beta = results.x[0]\n",
    "    alpha = results.x[1]\n",
    "    \n",
    "    return(float(beta),float(alpha))\n"
   ]
  }
 ],
 "metadata": {
  "kernelspec": {
   "display_name": "Python 3",
   "language": "python",
   "name": "python3"
  },
  "language_info": {
   "codemirror_mode": {
    "name": "ipython",
    "version": 3
   },
   "file_extension": ".py",
   "mimetype": "text/x-python",
   "name": "python",
   "nbconvert_exporter": "python",
   "pygments_lexer": "ipython3",
   "version": "3.8.3"
  }
 },
 "nbformat": 4,
 "nbformat_minor": 4
}
